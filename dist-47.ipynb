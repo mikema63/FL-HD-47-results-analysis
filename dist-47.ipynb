{
 "cells": [
  {
   "cell_type": "code",
   "execution_count": 27,
   "metadata": {},
   "outputs": [],
   "source": [
    "import numpy as np\n",
    "import pandas as pd\n",
    "import matplotlib.pyplot as plt\n",
    "import seaborn as sb\n",
    "sb.set()"
   ]
  },
  {
   "cell_type": "code",
   "execution_count": 28,
   "metadata": {},
   "outputs": [],
   "source": [
    "import pymysql.cursors"
   ]
  },
  {
   "cell_type": "code",
   "execution_count": 29,
   "metadata": {},
   "outputs": [],
   "source": [
    "connection = pymysql.connect(host='localhost', user = 'root', password = 'Biosynth63!', db = 'dist_47', charset = 'utf8mb4',\n",
    "                            cursorclass=pymysql.cursors.DictCursor)\n"
   ]
  },
  {
   "cell_type": "code",
   "execution_count": 30,
   "metadata": {},
   "outputs": [],
   "source": [
    "with connection.cursor() as cursor:\n",
    "    sql = 'select * from race_of_voters_2018;'\n",
    "    cursor.execute(sql)\n",
    "    race_of_voters = cursor.fetchall()"
   ]
  },
  {
   "cell_type": "code",
   "execution_count": 31,
   "metadata": {},
   "outputs": [],
   "source": [
    "race = pd.DataFrame.from_dict(race_of_voters)"
   ]
  },
  {
   "cell_type": "code",
   "execution_count": 32,
   "metadata": {},
   "outputs": [],
   "source": [
    "with connection.cursor() as cursor:\n",
    "    sql = 'select * from election_2018_result;'\n",
    "    cursor.execute(sql)\n",
    "    result = cursor.fetchall()"
   ]
  },
  {
   "cell_type": "code",
   "execution_count": 33,
   "metadata": {},
   "outputs": [],
   "source": [
    "result = pd.DataFrame.from_dict(result)"
   ]
  },
  {
   "cell_type": "code",
   "execution_count": 34,
   "metadata": {},
   "outputs": [
    {
     "name": "stdout",
     "output_type": "stream",
     "text": [
      "      CANDIDATE_NAME                      CONTEST_NAME  EARLY_PROVISIONAL  \\\n",
      "0   Anna V. Eskamani  State Representative District 47                  0   \n",
      "1   Anna V. Eskamani  State Representative District 47                  0   \n",
      "2   Anna V. Eskamani  State Representative District 47                  0   \n",
      "3   Anna V. Eskamani  State Representative District 47                  0   \n",
      "4   Anna V. Eskamani  State Representative District 47                  0   \n",
      "5   Anna V. Eskamani  State Representative District 47                  0   \n",
      "6   Anna V. Eskamani  State Representative District 47                  0   \n",
      "7   Anna V. Eskamani  State Representative District 47                  0   \n",
      "8   Anna V. Eskamani  State Representative District 47                  0   \n",
      "9   Anna V. Eskamani  State Representative District 47                  0   \n",
      "10  Anna V. Eskamani  State Representative District 47                  0   \n",
      "11  Anna V. Eskamani  State Representative District 47                  0   \n",
      "12  Anna V. Eskamani  State Representative District 47                  0   \n",
      "13  Anna V. Eskamani  State Representative District 47                  0   \n",
      "14  Anna V. Eskamani  State Representative District 47                  0   \n",
      "15  Anna V. Eskamani  State Representative District 47                  0   \n",
      "16  Anna V. Eskamani  State Representative District 47                  0   \n",
      "17  Anna V. Eskamani  State Representative District 47                  0   \n",
      "18  Anna V. Eskamani  State Representative District 47                  0   \n",
      "19  Anna V. Eskamani  State Representative District 47                  0   \n",
      "20  Anna V. Eskamani  State Representative District 47                  0   \n",
      "21  Anna V. Eskamani  State Representative District 47                  0   \n",
      "22  Anna V. Eskamani  State Representative District 47                  0   \n",
      "23  Anna V. Eskamani  State Representative District 47                  0   \n",
      "24  Anna V. Eskamani  State Representative District 47                  0   \n",
      "25  Anna V. Eskamani  State Representative District 47                  0   \n",
      "26  Anna V. Eskamani  State Representative District 47                  0   \n",
      "27  Anna V. Eskamani  State Representative District 47                  0   \n",
      "28  Anna V. Eskamani  State Representative District 47                  0   \n",
      "29  Anna V. Eskamani  State Representative District 47                  0   \n",
      "30  Anna V. Eskamani  State Representative District 47                  0   \n",
      "31  Anna V. Eskamani  State Representative District 47                  0   \n",
      "32  Anna V. Eskamani  State Representative District 47                  0   \n",
      "33  Anna V. Eskamani  State Representative District 47                  0   \n",
      "34  Anna V. Eskamani  State Representative District 47                  0   \n",
      "35  Anna V. Eskamani  State Representative District 47                  0   \n",
      "36  Anna V. Eskamani  State Representative District 47                  0   \n",
      "37  Anna V. Eskamani  State Representative District 47                  0   \n",
      "38  Anna V. Eskamani  State Representative District 47                  0   \n",
      "39  Anna V. Eskamani  State Representative District 47                  0   \n",
      "40  Anna V. Eskamani  State Representative District 47                  0   \n",
      "41  Anna V. Eskamani  State Representative District 47                  0   \n",
      "42  Anna V. Eskamani  State Representative District 47                  0   \n",
      "43  Anna V. Eskamani  State Representative District 47                  0   \n",
      "44  Anna V. Eskamani  State Representative District 47                  0   \n",
      "45  Anna V. Eskamani  State Representative District 47                  0   \n",
      "46  Anna V. Eskamani  State Representative District 47                  0   \n",
      "\n",
      "    EARLY_VOTING  ELECTION_DAY  ELECTION_DAY_PROVISIONAL  PRECINCT  \\\n",
      "0             74            51                         0       201   \n",
      "1              0             0                         0       202   \n",
      "2            442           297                         0       301   \n",
      "3            537           296                         0       302   \n",
      "4            643           462                         0       303   \n",
      "5              0             0                         0       304   \n",
      "6            345           411                         0       305   \n",
      "7            333           336                         0       323   \n",
      "8            367           350                         0       324   \n",
      "9            488           564                         0       325   \n",
      "10           512           480                         0       326   \n",
      "11           451           365                         0       327   \n",
      "12             0             0                         0       328   \n",
      "13           209           253                         0       330   \n",
      "14           150           182                         0       331   \n",
      "15           155           281                         0       333   \n",
      "16             0             0                         0       334   \n",
      "17           263           167                         0       335   \n",
      "18           620           489                         0       336   \n",
      "19           369           336                         0       337   \n",
      "20           299           205                         0       338   \n",
      "21           231           214                         0       339   \n",
      "22            53            53                         0       342   \n",
      "23             0             0                         0       419   \n",
      "24           636           562                         0       501   \n",
      "25           881           771                         0       502   \n",
      "26           422           430                         0       503   \n",
      "27           291           267                         0       504   \n",
      "28             0             0                         0       505   \n",
      "29           304           294                         0       507   \n",
      "30           575           466                         0       508   \n",
      "31           385           372                         0       509   \n",
      "32             0             0                         0       510   \n",
      "33           396           284                         0       511   \n",
      "34           335           238                         0       512   \n",
      "35             0             0                         0       519   \n",
      "36           366           297                         0       520   \n",
      "37             0             0                         0       521   \n",
      "38           340           191                         0       522   \n",
      "39           176           180                         0       523   \n",
      "40             0             0                         0       524   \n",
      "41             0             0                         0       525   \n",
      "42           181           171                         0       526   \n",
      "43           385           203                         0       527   \n",
      "44           675           514                         0       549   \n",
      "45           132            65                         0       630   \n",
      "46             0             0                         0       631   \n",
      "\n",
      "    TOTAL_VOTES  VOTE_BY_MAIL percent percent_decimal  \n",
      "0           203            78   47.88          0.4788  \n",
      "1           542             0   46.48          0.4648  \n",
      "2          1091           352   68.40           0.684  \n",
      "3          1181           348   56.37          0.5637  \n",
      "4          1516           411   61.83          0.6183  \n",
      "5          1492             0   58.72          0.5872  \n",
      "6          1156           400   58.12          0.5812  \n",
      "7           891           222   51.80           0.518  \n",
      "8          1089           372   55.87          0.5587  \n",
      "9          1467           415   60.54          0.6054  \n",
      "10         1389           397   48.46          0.4846  \n",
      "11         1081           265   55.84          0.5584  \n",
      "12          788             0   56.13          0.5613  \n",
      "13          668           206   39.79          0.3979  \n",
      "14          478           146   56.64          0.5664  \n",
      "15          598           162   34.65          0.3465  \n",
      "16          886             0   36.98          0.3698  \n",
      "17          624           194   36.15          0.3615  \n",
      "18         1558           449   60.41          0.6041  \n",
      "19         1041           336   44.17          0.4417  \n",
      "20          802           298   47.01          0.4701  \n",
      "21          603           158   61.28          0.6128  \n",
      "22          203            97   51.52          0.5152  \n",
      "23            1             0  100.00            1.00  \n",
      "24         1752           554   63.29          0.6329  \n",
      "25         2288           636   72.80           0.728  \n",
      "26         1176           324   71.58          0.7158  \n",
      "27          812           254   54.31          0.5431  \n",
      "28          995             0   64.69          0.6469  \n",
      "29          833           235   48.54          0.4854  \n",
      "30         1455           414   58.60           0.586  \n",
      "31         1011           254   53.41          0.5341  \n",
      "32          973             0   54.66          0.5466  \n",
      "33          978           298   54.24          0.5424  \n",
      "34          884           311   66.32          0.6632  \n",
      "35          941             0   55.29          0.5529  \n",
      "36          999           336   54.65          0.5465  \n",
      "37         1023             0   50.59          0.5059  \n",
      "38          923           392   42.57          0.4257  \n",
      "39          504           148   48.88          0.4888  \n",
      "40         1696             0   67.95          0.6795  \n",
      "41         2376             0   54.89          0.5489  \n",
      "42          522           170   71.90           0.719  \n",
      "43          856           268   51.17          0.5117  \n",
      "44         1507           318   72.17          0.7217  \n",
      "45          360           163   66.67          0.6667  \n",
      "46            6             0  100.00            1.00  \n",
      "    American_Indian  Asian_Pacific  Black  Hispanic  Multi_Racial  Not_Given  \\\n",
      "0                 3              4      7        17             1         21   \n",
      "1                 1             12     29        64             3         46   \n",
      "2                 4             27     63       233             5         74   \n",
      "3                 3             30     55       151             3         82   \n",
      "4                 4             36     75       197             2        114   \n",
      "5                 5             28    119       338             2        132   \n",
      "6                 6             35    128       723             3         71   \n",
      "7                 6             47    146       332             3         88   \n",
      "8                 8             35    156       465             3         89   \n",
      "9                11             48    224       497             3        105   \n",
      "10                7             31    101       279             3        128   \n",
      "11                8             35     78       160             3         84   \n",
      "12                5             26    214       153             3         79   \n",
      "13                5             50    114       150             3         64   \n",
      "14                3             20    111       198             2         48   \n",
      "15                6             20     41       156             4         61   \n",
      "16                7             54     95       168             3         84   \n",
      "17                3             13     28        79             3         47   \n",
      "18                8             77    272       675             3        125   \n",
      "19                4             25     55       214             4         94   \n",
      "20                4             34     91       406             3         73   \n",
      "21                1             29     56       461             3         57   \n",
      "22                2              3     25        71             3         19   \n",
      "23                0              0      0         1             0          0   \n",
      "24                7             75    118       292             3        141   \n",
      "25               10             63    134       420             3        196   \n",
      "26                2             50     40       107             3        104   \n",
      "27                4             17     19        66             4         59   \n",
      "28                1             43     45       111             3         82   \n",
      "29                2             16     35        74             3         67   \n",
      "30               12             41     53       170             3         97   \n",
      "31                4             20     29        88             2         79   \n",
      "32                4             45     81        99             3         84   \n",
      "33                7             23     72       166             3         78   \n",
      "34                1             10    339       114             2         67   \n",
      "35                9             31     24        89             2         89   \n",
      "36                5             21    100       203             3         83   \n",
      "37                6             53     47       129             3         74   \n",
      "38                5             63     15        90             3         74   \n",
      "39                7             13     10        49             2         32   \n",
      "40                8             89    104       271             3        111   \n",
      "41                5            194    125       393             5        232   \n",
      "42                3             19     98       217             2         40   \n",
      "43                5             52     62       120             3         50   \n",
      "44                6             86    186       331             3        173   \n",
      "45                1             14     91        62             4         42   \n",
      "46                0              0      1         2             0          0   \n",
      "\n",
      "    Precinct  White  \n",
      "0        201    376  \n",
      "1        202   1016  \n",
      "2        301   1184  \n",
      "3        302   1766  \n",
      "4        303   2022  \n",
      "5        304   1903  \n",
      "6        305   1024  \n",
      "7        323   1087  \n",
      "8        324   1183  \n",
      "9        325   1522  \n",
      "10       326   2305  \n",
      "11       327   1567  \n",
      "12       328    916  \n",
      "13       330   1292  \n",
      "14       331    465  \n",
      "15       333   1435  \n",
      "16       334   1982  \n",
      "17       335   1547  \n",
      "18       336   1409  \n",
      "19       337   1957  \n",
      "20       338   1086  \n",
      "21       339    380  \n",
      "22       342    270  \n",
      "23       419      0  \n",
      "24       501   2118  \n",
      "25       502   2315  \n",
      "26       503   1336  \n",
      "27       504   1319  \n",
      "28       505   1251  \n",
      "29       507   1514  \n",
      "30       508   2112  \n",
      "31       509   1669  \n",
      "32       510   1459  \n",
      "33       511   1454  \n",
      "34       512    806  \n",
      "35       519   1457  \n",
      "36       520   1404  \n",
      "37       521   1705  \n",
      "38       522   1914  \n",
      "39       523    916  \n",
      "40       524   1899  \n",
      "41       525   3371  \n",
      "42       526    350  \n",
      "43       527   1373  \n",
      "44       549   1300  \n",
      "45       630    348  \n",
      "46       631      3  \n"
     ]
    }
   ],
   "source": [
    "result['percent_decimal'] = result['percent'] / 100\n",
    "print(result)\n",
    "print(race)"
   ]
  },
  {
   "cell_type": "raw",
   "metadata": {},
   "source": []
  },
  {
   "cell_type": "code",
   "execution_count": 35,
   "metadata": {},
   "outputs": [],
   "source": [
    "race['total'] = race['American_Indian'] + race['Asian_Pacific'] + race['Black'] + race['Hispanic'] + race['Multi_Racial'] + race['Not_Given'] + race['White']"
   ]
  },
  {
   "cell_type": "code",
   "execution_count": 36,
   "metadata": {},
   "outputs": [],
   "source": [
    "race['percent_black'] = race['Black'] / race['total']"
   ]
  },
  {
   "cell_type": "code",
   "execution_count": 37,
   "metadata": {},
   "outputs": [
    {
     "data": {
      "text/plain": [
       "<matplotlib.collections.PathCollection at 0x1c4d8857c88>"
      ]
     },
     "execution_count": 37,
     "metadata": {},
     "output_type": "execute_result"
    },
    {
     "data": {
      "image/png": "[encoded data removed]",
      "text/plain": [
       "<Figure size 432x288 with 1 Axes>"
      ]
     },
     "metadata": {},
     "output_type": "display_data"
    }
   ],
   "source": [
    "plt.scatter(race['percent_black'], result['percent_decimal'])"
   ]
  },
  {
   "cell_type": "code",
   "execution_count": 188,
   "metadata": {},
   "outputs": [
    {
     "data": {
      "text/plain": [
       "<matplotlib.collections.PathCollection at 0x2c0448518d0>"
      ]
     },
     "execution_count": 188,
     "metadata": {},
     "output_type": "execute_result"
    },
    {
     "data": {
      "image/png": "[encoded data removed]",
      "text/plain": [
       "<Figure size 432x288 with 1 Axes>"
      ]
     },
     "metadata": {},
     "output_type": "display_data"
    }
   ],
   "source": [
    "race = race.drop([1,5,12,16,23, 28,32,35,40,41,46])\n",
    "result = result.drop([1,5,12,16,23,28,32,35,40,41,46])\n",
    "plt.scatter(race['percent_black'], result['percent_decimal'])"
   ]
  },
  {
   "cell_type": "code",
   "execution_count": null,
   "metadata": {},
   "outputs": [],
   "source": []
  },
  {
   "cell_type": "code",
   "execution_count": 38,
   "metadata": {},
   "outputs": [],
   "source": [
    "from sklearn.linear_model import LinearRegression"
   ]
  },
  {
   "cell_type": "code",
   "execution_count": 39,
   "metadata": {},
   "outputs": [],
   "source": [
    "X = race['percent_black']\n",
    "y = result['percent_decimal']\n",
    "\n",
    "from sklearn.model_selection import train_test_split\n",
    "\n",
    "import statsmodels as stats\n",
    "\n",
    "#X = stats.tools.tools.add_constant(X)\n",
    "\n",
    "\n"
   ]
  },
  {
   "cell_type": "code",
   "execution_count": 40,
   "metadata": {},
   "outputs": [],
   "source": [
    "import statsmodels.api as sm\n",
    "from statsmodels.sandbox.regression.predstd import wls_prediction_std\n",
    "X = sm.add_constant(X)\n",
    "\n",
    "model = sm.OLS(y.astype(float), X.astype(float))\n",
    "results = model.fit()"
   ]
  },
  {
   "cell_type": "code",
   "execution_count": 41,
   "metadata": {},
   "outputs": [
    {
     "name": "stdout",
     "output_type": "stream",
     "text": [
      "                            OLS Regression Results                            \n",
      "==============================================================================\n",
      "Dep. Variable:        percent_decimal   R-squared:                       0.118\n",
      "Model:                            OLS   Adj. R-squared:                  0.098\n",
      "Method:                 Least Squares   F-statistic:                     6.010\n",
      "Date:                Mon, 01 Apr 2019   Prob (F-statistic):             0.0182\n",
      "Time:                        15:40:19   Log-Likelihood:                 32.276\n",
      "No. Observations:                  47   AIC:                            -60.55\n",
      "Df Residuals:                      45   BIC:                            -56.85\n",
      "Df Model:                           1                                         \n",
      "Covariance Type:            nonrobust                                         \n",
      "=================================================================================\n",
      "                    coef    std err          t      P>|t|      [0.025      0.975]\n",
      "---------------------------------------------------------------------------------\n",
      "const             0.5238      0.027     19.294      0.000       0.469       0.578\n",
      "percent_black     0.8823      0.360      2.452      0.018       0.157       1.607\n",
      "==============================================================================\n",
      "Omnibus:                       24.624   Durbin-Watson:                   1.380\n",
      "Prob(Omnibus):                  0.000   Jarque-Bera (JB):               47.266\n",
      "Skew:                           1.495   Prob(JB):                     5.45e-11\n",
      "Kurtosis:                       6.899   Cond. No.                         19.9\n",
      "==============================================================================\n",
      "\n",
      "Warnings:\n",
      "[1] Standard Errors assume that the covariance matrix of the errors is correctly specified.\n"
     ]
    }
   ],
   "source": [
    "print(results.summary())"
   ]
  },
  {
   "cell_type": "code",
   "execution_count": 42,
   "metadata": {},
   "outputs": [],
   "source": [
    "x_ = [0., 0.25]\n",
    "y_ = [.8786*0 + 0.5052, .8786*.25 + 0.5052]\n"
   ]
  },
  {
   "cell_type": "code",
   "execution_count": 43,
   "metadata": {},
   "outputs": [
    {
     "data": {
      "image/png": "[encoded data removed]",
      "text/plain": [
       "<Figure size 432x288 with 1 Axes>"
      ]
     },
     "metadata": {},
     "output_type": "display_data"
    }
   ],
   "source": [
    "plt.scatter(race['percent_black'], result['percent_decimal'])\n",
    "plt.plot(x_,y_)\n",
    "plt.show()"
   ]
  },
  {
   "cell_type": "markdown",
   "metadata": {},
   "source": [
    "percent black population vs. percent of total vote share.\n",
    "\n",
    "for every 1% increase in black population vote share increases about .88%\n",
    "\n",
    "on average black voters went for anna at about 77%-100% (black population too small to narrow beyond that"
   ]
  },
  {
   "cell_type": "code",
   "execution_count": 44,
   "metadata": {},
   "outputs": [],
   "source": [
    "race['percent_white'] = race['White'] / race['total']"
   ]
  },
  {
   "cell_type": "code",
   "execution_count": 45,
   "metadata": {},
   "outputs": [
    {
     "data": {
      "text/plain": [
       "<matplotlib.collections.PathCollection at 0x1c4dc34cda0>"
      ]
     },
     "execution_count": 45,
     "metadata": {},
     "output_type": "execute_result"
    },
    {
     "data": {
      "image/png": "[encoded data removed]",
      "text/plain": [
       "<Figure size 432x288 with 1 Axes>"
      ]
     },
     "metadata": {},
     "output_type": "display_data"
    }
   ],
   "source": [
    "plt.scatter(race['percent_white'], result['percent_decimal'])"
   ]
  },
  {
   "cell_type": "code",
   "execution_count": 46,
   "metadata": {},
   "outputs": [
    {
     "name": "stdout",
     "output_type": "stream",
     "text": [
      "                            OLS Regression Results                            \n",
      "==============================================================================\n",
      "Dep. Variable:        percent_decimal   R-squared:                       0.440\n",
      "Model:                            OLS   Adj. R-squared:                  0.427\n",
      "Method:                 Least Squares   F-statistic:                     35.34\n",
      "Date:                Mon, 01 Apr 2019   Prob (F-statistic):           3.78e-07\n",
      "Time:                        15:40:21   Log-Likelihood:                 42.950\n",
      "No. Observations:                  47   AIC:                            -81.90\n",
      "Df Residuals:                      45   BIC:                            -78.20\n",
      "Df Model:                           1                                         \n",
      "Covariance Type:            nonrobust                                         \n",
      "=================================================================================\n",
      "                    coef    std err          t      P>|t|      [0.025      0.975]\n",
      "---------------------------------------------------------------------------------\n",
      "const             0.9481      0.065     14.654      0.000       0.818       1.078\n",
      "percent_white    -0.5143      0.087     -5.944      0.000      -0.689      -0.340\n",
      "==============================================================================\n",
      "Omnibus:                        4.376   Durbin-Watson:                   0.691\n",
      "Prob(Omnibus):                  0.112   Jarque-Bera (JB):                3.199\n",
      "Skew:                           0.534   Prob(JB):                        0.202\n",
      "Kurtosis:                       3.702   Cond. No.                         9.22\n",
      "==============================================================================\n",
      "\n",
      "Warnings:\n",
      "[1] Standard Errors assume that the covariance matrix of the errors is correctly specified.\n"
     ]
    }
   ],
   "source": [
    "X = race['percent_white']\n",
    "y = result['percent_decimal']\n",
    "X = sm.add_constant(X)\n",
    "\n",
    "model = sm.OLS(y.astype(float), X.astype(float))\n",
    "results = model.fit()\n",
    "print(results.summary())"
   ]
  },
  {
   "cell_type": "code",
   "execution_count": 47,
   "metadata": {},
   "outputs": [
    {
     "data": {
      "text/plain": [
       "[<matplotlib.lines.Line2D at 0x1c4dbe92f60>]"
      ]
     },
     "execution_count": 47,
     "metadata": {},
     "output_type": "execute_result"
    },
    {
     "data": {
      "image/png": "[encoded data removed]",
      "text/plain": [
       "<Figure size 432x288 with 1 Axes>"
      ]
     },
     "metadata": {},
     "output_type": "display_data"
    }
   ],
   "source": [
    "x_ = [0.4, 0.9]\n",
    "y_= [0.674, 0.4995]\n",
    "plt.scatter(race['percent_white'], result['percent_decimal'])\n",
    "plt.plot(x_,y_)"
   ]
  },
  {
   "cell_type": "markdown",
   "metadata": {},
   "source": [
    "percent white population vs percent total vote share.\n",
    "\n",
    "for every 1% increase in white population share of vote decreased about .35%\n",
    "\n",
    "on average white voters went for anna at about 46%-55%"
   ]
  },
  {
   "cell_type": "code",
   "execution_count": 48,
   "metadata": {},
   "outputs": [],
   "source": [
    "race['percent_hispanic'] = race['Hispanic'] / race['total']"
   ]
  },
  {
   "cell_type": "code",
   "execution_count": 49,
   "metadata": {},
   "outputs": [
    {
     "name": "stdout",
     "output_type": "stream",
     "text": [
      "                            OLS Regression Results                            \n",
      "==============================================================================\n",
      "Dep. Variable:        percent_decimal   R-squared:                       0.373\n",
      "Model:                            OLS   Adj. R-squared:                  0.359\n",
      "Method:                 Least Squares   F-statistic:                     26.79\n",
      "Date:                Mon, 01 Apr 2019   Prob (F-statistic):           5.11e-06\n",
      "Time:                        15:40:28   Log-Likelihood:                 40.307\n",
      "No. Observations:                  47   AIC:                            -76.61\n",
      "Df Residuals:                      45   BIC:                            -72.91\n",
      "Df Model:                           1                                         \n",
      "Covariance Type:            nonrobust                                         \n",
      "====================================================================================\n",
      "                       coef    std err          t      P>|t|      [0.025      0.975]\n",
      "------------------------------------------------------------------------------------\n",
      "const                0.4993      0.021     23.853      0.000       0.457       0.541\n",
      "percent_hispanic     0.5042      0.097      5.176      0.000       0.308       0.700\n",
      "==============================================================================\n",
      "Omnibus:                        5.269   Durbin-Watson:                   0.824\n",
      "Prob(Omnibus):                  0.072   Jarque-Bera (JB):                4.096\n",
      "Skew:                           0.585   Prob(JB):                        0.129\n",
      "Kurtosis:                       3.849   Cond. No.                         6.51\n",
      "==============================================================================\n",
      "\n",
      "Warnings:\n",
      "[1] Standard Errors assume that the covariance matrix of the errors is correctly specified.\n"
     ]
    }
   ],
   "source": [
    "X = race['percent_hispanic']\n",
    "y = result['percent_decimal']\n",
    "X = sm.add_constant(X)\n",
    "\n",
    "model = sm.OLS(y.astype(float), X.astype(float))\n",
    "results = model.fit()\n",
    "print(results.summary())"
   ]
  },
  {
   "cell_type": "code",
   "execution_count": 50,
   "metadata": {},
   "outputs": [
    {
     "data": {
      "text/plain": [
       "[<matplotlib.lines.Line2D at 0x1c4dc3daa58>]"
      ]
     },
     "execution_count": 50,
     "metadata": {},
     "output_type": "execute_result"
    },
    {
     "data": {
      "image/png": "[encoded data removed]",
      "text/plain": [
       "<Figure size 432x288 with 1 Axes>"
      ]
     },
     "metadata": {},
     "output_type": "display_data"
    }
   ],
   "source": [
    "x_ = [0., 0.4]\n",
    "y_= [0.513, 0.6397]\n",
    "plt.scatter(race['percent_hispanic'], result['percent_decimal'])\n",
    "plt.plot(x_,y_)"
   ]
  },
  {
   "cell_type": "markdown",
   "metadata": {},
   "source": [
    "percent hispanic population vs total share of vote\n",
    "\n",
    "for every 1% increase in hispanic population vote share increased about .32%\n",
    "\n",
    "on average hispanic voters went for anna at 70%-90%"
   ]
  },
  {
   "cell_type": "code",
   "execution_count": 51,
   "metadata": {},
   "outputs": [
    {
     "name": "stdout",
     "output_type": "stream",
     "text": [
      "                            OLS Regression Results                            \n",
      "==============================================================================\n",
      "Dep. Variable:        percent_decimal   R-squared:                       0.003\n",
      "Model:                            OLS   Adj. R-squared:                 -0.019\n",
      "Method:                 Least Squares   F-statistic:                    0.1377\n",
      "Date:                Mon, 01 Apr 2019   Prob (F-statistic):              0.712\n",
      "Time:                        15:40:31   Log-Likelihood:                 29.402\n",
      "No. Observations:                  47   AIC:                            -54.80\n",
      "Df Residuals:                      45   BIC:                            -51.10\n",
      "Df Model:                           1                                         \n",
      "Covariance Type:            nonrobust                                         \n",
      "=================================================================================\n",
      "                    coef    std err          t      P>|t|      [0.025      0.975]\n",
      "---------------------------------------------------------------------------------\n",
      "const             0.5872      0.042     13.904      0.000       0.502       0.672\n",
      "percent_asian    -0.7269      1.959     -0.371      0.712      -4.673       3.219\n",
      "==============================================================================\n",
      "Omnibus:                       15.513   Durbin-Watson:                   1.396\n",
      "Prob(Omnibus):                  0.000   Jarque-Bera (JB):               20.045\n",
      "Skew:                           1.106   Prob(JB):                     4.44e-05\n",
      "Kurtosis:                       5.311   Cond. No.                         102.\n",
      "==============================================================================\n",
      "\n",
      "Warnings:\n",
      "[1] Standard Errors assume that the covariance matrix of the errors is correctly specified.\n"
     ]
    }
   ],
   "source": [
    "race['percent_asian'] = race['Asian_Pacific'] / race['total']\n",
    "X = race['percent_asian']\n",
    "y = result['percent_decimal']\n",
    "X = sm.add_constant(X)\n",
    "\n",
    "model = sm.OLS(y.astype(float), X.astype(float))\n",
    "results = model.fit()\n",
    "print(results.summary())"
   ]
  },
  {
   "cell_type": "code",
   "execution_count": 52,
   "metadata": {},
   "outputs": [
    {
     "name": "stdout",
     "output_type": "stream",
     "text": [
      "                            OLS Regression Results                            \n",
      "==============================================================================\n",
      "Dep. Variable:        percent_decimal   R-squared:                       0.006\n",
      "Model:                            OLS   Adj. R-squared:                 -0.016\n",
      "Method:                 Least Squares   F-statistic:                    0.2868\n",
      "Date:                Mon, 01 Apr 2019   Prob (F-statistic):              0.595\n",
      "Time:                        15:40:32   Log-Likelihood:                 29.479\n",
      "No. Observations:                  47   AIC:                            -54.96\n",
      "Df Residuals:                      45   BIC:                            -51.26\n",
      "Df Model:                           1                                         \n",
      "Covariance Type:            nonrobust                                         \n",
      "==============================================================================\n",
      "                 coef    std err          t      P>|t|      [0.025      0.975]\n",
      "------------------------------------------------------------------------------\n",
      "const          0.6058      0.064      9.505      0.000       0.477       0.734\n",
      "percent_na    -0.7296      1.362     -0.536      0.595      -3.473       2.014\n",
      "==============================================================================\n",
      "Omnibus:                       11.593   Durbin-Watson:                   1.377\n",
      "Prob(Omnibus):                  0.003   Jarque-Bera (JB):               12.530\n",
      "Skew:                           0.927   Prob(JB):                      0.00190\n",
      "Kurtosis:                       4.721   Cond. No.                         70.9\n",
      "==============================================================================\n",
      "\n",
      "Warnings:\n",
      "[1] Standard Errors assume that the covariance matrix of the errors is correctly specified.\n"
     ]
    }
   ],
   "source": [
    "race['percent_na'] = race['Not_Given'] / race['total']\n",
    "X = race['percent_na']\n",
    "y = result['percent_decimal']\n",
    "X = sm.add_constant(X)\n",
    "\n",
    "model = sm.OLS(y.astype(float), X.astype(float))\n",
    "results = model.fit()\n",
    "print(results.summary())"
   ]
  },
  {
   "cell_type": "code",
   "execution_count": 53,
   "metadata": {},
   "outputs": [],
   "source": [
    "with connection.cursor() as cursor:\n",
    "    sql = 'select * from gender_by_precinct_2018;'\n",
    "    cursor.execute(sql)\n",
    "    gender = cursor.fetchall()"
   ]
  },
  {
   "cell_type": "code",
   "execution_count": 54,
   "metadata": {},
   "outputs": [],
   "source": [
    "gender = pd.DataFrame.from_dict(gender)\n"
   ]
  },
  {
   "cell_type": "code",
   "execution_count": 19,
   "metadata": {},
   "outputs": [],
   "source": [
    "gender = gender.drop([1,5,12,16,23,28,32,35,40,41,46])"
   ]
  },
  {
   "cell_type": "code",
   "execution_count": 55,
   "metadata": {},
   "outputs": [],
   "source": [
    "gender['total'] = gender['MALE'] + gender['FEMALE'] + gender['NOT_GIVEN']\n",
    "gender['percent_male'] = gender['MALE'] / gender['total']\n",
    "gender['percent_female'] = gender['FEMALE'] / gender['total']"
   ]
  },
  {
   "cell_type": "code",
   "execution_count": 56,
   "metadata": {},
   "outputs": [
    {
     "name": "stdout",
     "output_type": "stream",
     "text": [
      "                            OLS Regression Results                            \n",
      "==============================================================================\n",
      "Dep. Variable:        percent_decimal   R-squared:                       0.048\n",
      "Model:                            OLS   Adj. R-squared:                  0.027\n",
      "Method:                 Least Squares   F-statistic:                     2.278\n",
      "Date:                Mon, 01 Apr 2019   Prob (F-statistic):              0.138\n",
      "Time:                        15:40:39   Log-Likelihood:                 30.491\n",
      "No. Observations:                  47   AIC:                            -56.98\n",
      "Df Residuals:                      45   BIC:                            -53.28\n",
      "Df Model:                           1                                         \n",
      "Covariance Type:            nonrobust                                         \n",
      "==================================================================================\n",
      "                     coef    std err          t      P>|t|      [0.025      0.975]\n",
      "----------------------------------------------------------------------------------\n",
      "const              0.3921      0.121      3.228      0.002       0.147       0.637\n",
      "percent_female     0.3494      0.231      1.509      0.138      -0.117       0.816\n",
      "==============================================================================\n",
      "Omnibus:                       19.261   Durbin-Watson:                   1.218\n",
      "Prob(Omnibus):                  0.000   Jarque-Bera (JB):               31.228\n",
      "Skew:                           1.222   Prob(JB):                     1.66e-07\n",
      "Kurtosis:                       6.158   Cond. No.                         15.6\n",
      "==============================================================================\n",
      "\n",
      "Warnings:\n",
      "[1] Standard Errors assume that the covariance matrix of the errors is correctly specified.\n"
     ]
    }
   ],
   "source": [
    "X = gender['percent_female']\n",
    "y = result['percent_decimal']\n",
    "X = sm.add_constant(X)\n",
    "\n",
    "model = sm.OLS(y.astype(float), X.astype(float))\n",
    "results = model.fit()\n",
    "print(results.summary())"
   ]
  },
  {
   "cell_type": "code",
   "execution_count": 57,
   "metadata": {},
   "outputs": [
    {
     "data": {
      "text/plain": [
       "<matplotlib.collections.PathCollection at 0x1c4dc479eb8>"
      ]
     },
     "execution_count": 57,
     "metadata": {},
     "output_type": "execute_result"
    },
    {
     "data": {
      "image/png": "[encoded data removed]",
      "text/plain": [
       "<Figure size 432x288 with 1 Axes>"
      ]
     },
     "metadata": {},
     "output_type": "display_data"
    }
   ],
   "source": [
    "x_ = [0.35, 0.525]\n",
    "y_= [0.519, 0.6397]\n",
    "\n",
    "plt.scatter(gender['percent_female'], result['percent_decimal'])"
   ]
  },
  {
   "cell_type": "code",
   "execution_count": 58,
   "metadata": {},
   "outputs": [],
   "source": [
    "import geopandas as geo"
   ]
  },
  {
   "cell_type": "code",
   "execution_count": 59,
   "metadata": {},
   "outputs": [
    {
     "name": "stdout",
     "output_type": "stream",
     "text": [
      "PRECINCT     int64\n",
      "CONGRESS    object\n",
      "geometry    object\n",
      "dtype: object\n"
     ]
    }
   ],
   "source": [
    "precincts = geo.read_file('May2016Precinct_region.shp')\n",
    "precincts['PRECINCT'] = pd.to_numeric(precincts['PRECINCT'])\n",
    "print(precincts.dtypes)"
   ]
  },
  {
   "cell_type": "code",
   "execution_count": 60,
   "metadata": {},
   "outputs": [
    {
     "name": "stdout",
     "output_type": "stream",
     "text": [
      "    PRECINCT CONGRESS                                           geometry  \\\n",
      "0        302       07  POLYGON Z ((-81.347495 28.51715 0, -81.3474960...   \n",
      "1        303       07  POLYGON Z ((-81.343416 28.52417 0, -81.343497 ...   \n",
      "2        304       07  POLYGON Z ((-81.324856 28.524288 0, -81.325434...   \n",
      "3        305       07  POLYGON Z ((-81.310394 28.524428 0, -81.310409...   \n",
      "4        323       10  POLYGON Z ((-81.310204 28.497135 0, -81.31021 ...   \n",
      "5        324       07  POLYGON Z ((-81.310333 28.517108 0, -81.310683...   \n",
      "6        325       07  POLYGON Z ((-81.330955 28.513311 0, -81.331321...   \n",
      "7        326       07  POLYGON Z ((-81.34745100000001 28.509555 0, -8...   \n",
      "8        327       07  POLYGON Z ((-81.36194999999999 28.508756 0, -8...   \n",
      "9        328       10  POLYGON Z ((-81.37609 28.494684 0, -81.376231 ...   \n",
      "10       334       10  POLYGON Z ((-81.330557 28.480525 0, -81.330583...   \n",
      "11       335       10  POLYGON Z ((-81.330788 28.482339 0, -81.330789...   \n",
      "12       336       10  POLYGON Z ((-81.31026799999999 28.505774 0, -8...   \n",
      "13       337       07  POLYGON Z ((-81.33083600000001 28.495054 0, -8...   \n",
      "14       338       10  POLYGON Z ((-81.310092 28.480615 0, -81.310152...   \n",
      "15       501       07  POLYGON Z ((-81.368404 28.538491 0, -81.368689...   \n",
      "16       502       07  POLYGON Z ((-81.343587 28.538771 0, -81.343587...   \n",
      "17       503       07  POLYGON Z ((-81.35166099999999 28.560541 0, -8...   \n",
      "18       505       07  POLYGON Z ((-81.36436999999999 28.580034 0, -8...   \n",
      "19       507       10  POLYGON Z ((-81.37574499999999 28.567877 0, -8...   \n",
      "20       508       10  POLYGON Z ((-81.37509 28.578711 0, -81.375091 ...   \n",
      "21       509       10  POLYGON Z ((-81.389455 28.572059 0, -81.389848...   \n",
      "22       519       07  POLYGON Z ((-81.34232 28.595213 0, -81.3423509...   \n",
      "23       520       07  POLYGON Z ((-81.30731 28.60022 0, -81.308114 2...   \n",
      "24       521       07  POLYGON Z ((-81.307046 28.589885 0, -81.307243...   \n",
      "25       523       07  POLYGON Z ((-81.339775 28.568922 0, -81.339778...   \n",
      "26       524       07  POLYGON Z ((-81.316036 28.56406 0, -81.316113 ...   \n",
      "27       527       07  POLYGON Z ((-81.306916 28.584408 0, -81.306925...   \n",
      "28       549       10  POLYGON Z ((-81.37269000000001 28.565999 0, -8...   \n",
      "29       631       07  POLYGON Z ((-81.37637100000001 28.520239 0, -8...   \n",
      "30       201       10  POLYGON Z ((-81.393314 28.552975 0, -81.393586...   \n",
      "31       202       10  POLYGON Z ((-81.391792 28.583892 0, -81.391835...   \n",
      "32       301       07  POLYGON Z ((-81.363322 28.534513 0, -81.363404...   \n",
      "33       330       10  POLYGON Z ((-81.359658 28.489552 0, -81.359773...   \n",
      "34       331       10  POLYGON Z ((-81.368082 28.465544 0, -81.368260...   \n",
      "35       333       10  POLYGON Z ((-81.338622 28.465748 0, -81.338682...   \n",
      "36       339       10  POLYGON Z ((-81.309005 28.451455 0, -81.309158...   \n",
      "37       342       10  POLYGON Z ((-81.375778 28.537004 0, -81.375809...   \n",
      "38       504       07  POLYGON Z ((-81.34607699999999 28.567842 0, -8...   \n",
      "39       510       10  POLYGON Z ((-81.375141 28.582247 0, -81.375547...   \n",
      "40       511       07  POLYGON Z ((-81.360668 28.58218 0, -81.3613809...   \n",
      "41       512       07  POLYGON Z ((-81.351643 28.597016 0, -81.351651...   \n",
      "42       522       07  POLYGON Z ((-81.324646 28.578808 0, -81.324653...   \n",
      "43       525       07  POLYGON Z ((-81.315048 28.56558 0, -81.315983 ...   \n",
      "44       526       07  POLYGON Z ((-81.28609899999999 28.568311 0, -8...   \n",
      "45       630       10  POLYGON Z ((-81.37631500000001 28.512912 0, -8...   \n",
      "46       419       10  POLYGON Z ((-81.303974 28.413808 0, -81.303982...   \n",
      "\n",
      "      CANDIDATE_NAME                      CONTEST_NAME  EARLY_PROVISIONAL  \\\n",
      "0   Anna V. Eskamani  State Representative District 47                  0   \n",
      "1   Anna V. Eskamani  State Representative District 47                  0   \n",
      "2   Anna V. Eskamani  State Representative District 47                  0   \n",
      "3   Anna V. Eskamani  State Representative District 47                  0   \n",
      "4   Anna V. Eskamani  State Representative District 47                  0   \n",
      "5   Anna V. Eskamani  State Representative District 47                  0   \n",
      "6   Anna V. Eskamani  State Representative District 47                  0   \n",
      "7   Anna V. Eskamani  State Representative District 47                  0   \n",
      "8   Anna V. Eskamani  State Representative District 47                  0   \n",
      "9   Anna V. Eskamani  State Representative District 47                  0   \n",
      "10  Anna V. Eskamani  State Representative District 47                  0   \n",
      "11  Anna V. Eskamani  State Representative District 47                  0   \n",
      "12  Anna V. Eskamani  State Representative District 47                  0   \n",
      "13  Anna V. Eskamani  State Representative District 47                  0   \n",
      "14  Anna V. Eskamani  State Representative District 47                  0   \n",
      "15  Anna V. Eskamani  State Representative District 47                  0   \n",
      "16  Anna V. Eskamani  State Representative District 47                  0   \n",
      "17  Anna V. Eskamani  State Representative District 47                  0   \n",
      "18  Anna V. Eskamani  State Representative District 47                  0   \n",
      "19  Anna V. Eskamani  State Representative District 47                  0   \n",
      "20  Anna V. Eskamani  State Representative District 47                  0   \n",
      "21  Anna V. Eskamani  State Representative District 47                  0   \n",
      "22  Anna V. Eskamani  State Representative District 47                  0   \n",
      "23  Anna V. Eskamani  State Representative District 47                  0   \n",
      "24  Anna V. Eskamani  State Representative District 47                  0   \n",
      "25  Anna V. Eskamani  State Representative District 47                  0   \n",
      "26  Anna V. Eskamani  State Representative District 47                  0   \n",
      "27  Anna V. Eskamani  State Representative District 47                  0   \n",
      "28  Anna V. Eskamani  State Representative District 47                  0   \n",
      "29  Anna V. Eskamani  State Representative District 47                  0   \n",
      "30  Anna V. Eskamani  State Representative District 47                  0   \n",
      "31  Anna V. Eskamani  State Representative District 47                  0   \n",
      "32  Anna V. Eskamani  State Representative District 47                  0   \n",
      "33  Anna V. Eskamani  State Representative District 47                  0   \n",
      "34  Anna V. Eskamani  State Representative District 47                  0   \n",
      "35  Anna V. Eskamani  State Representative District 47                  0   \n",
      "36  Anna V. Eskamani  State Representative District 47                  0   \n",
      "37  Anna V. Eskamani  State Representative District 47                  0   \n",
      "38  Anna V. Eskamani  State Representative District 47                  0   \n",
      "39  Anna V. Eskamani  State Representative District 47                  0   \n",
      "40  Anna V. Eskamani  State Representative District 47                  0   \n",
      "41  Anna V. Eskamani  State Representative District 47                  0   \n",
      "42  Anna V. Eskamani  State Representative District 47                  0   \n",
      "43  Anna V. Eskamani  State Representative District 47                  0   \n",
      "44  Anna V. Eskamani  State Representative District 47                  0   \n",
      "45  Anna V. Eskamani  State Representative District 47                  0   \n",
      "46  Anna V. Eskamani  State Representative District 47                  0   \n",
      "\n",
      "    EARLY_VOTING  ELECTION_DAY  ELECTION_DAY_PROVISIONAL  TOTAL_VOTES  \\\n",
      "0            537           296                         0         1181   \n",
      "1            643           462                         0         1516   \n",
      "2              0             0                         0         1492   \n",
      "3            345           411                         0         1156   \n",
      "4            333           336                         0          891   \n",
      "5            367           350                         0         1089   \n",
      "6            488           564                         0         1467   \n",
      "7            512           480                         0         1389   \n",
      "8            451           365                         0         1081   \n",
      "9              0             0                         0          788   \n",
      "10             0             0                         0          886   \n",
      "11           263           167                         0          624   \n",
      "12           620           489                         0         1558   \n",
      "13           369           336                         0         1041   \n",
      "14           299           205                         0          802   \n",
      "15           636           562                         0         1752   \n",
      "16           881           771                         0         2288   \n",
      "17           422           430                         0         1176   \n",
      "18             0             0                         0          995   \n",
      "19           304           294                         0          833   \n",
      "20           575           466                         0         1455   \n",
      "21           385           372                         0         1011   \n",
      "22             0             0                         0          941   \n",
      "23           366           297                         0          999   \n",
      "24             0             0                         0         1023   \n",
      "25           176           180                         0          504   \n",
      "26             0             0                         0         1696   \n",
      "27           385           203                         0          856   \n",
      "28           675           514                         0         1507   \n",
      "29             0             0                         0            6   \n",
      "30            74            51                         0          203   \n",
      "31             0             0                         0          542   \n",
      "32           442           297                         0         1091   \n",
      "33           209           253                         0          668   \n",
      "34           150           182                         0          478   \n",
      "35           155           281                         0          598   \n",
      "36           231           214                         0          603   \n",
      "37            53            53                         0          203   \n",
      "38           291           267                         0          812   \n",
      "39             0             0                         0          973   \n",
      "40           396           284                         0          978   \n",
      "41           335           238                         0          884   \n",
      "42           340           191                         0          923   \n",
      "43             0             0                         0         2376   \n",
      "44           181           171                         0          522   \n",
      "45           132            65                         0          360   \n",
      "46             0             0                         0            1   \n",
      "\n",
      "    VOTE_BY_MAIL percent percent_decimal  \n",
      "0            348   56.37          0.5637  \n",
      "1            411   61.83          0.6183  \n",
      "2              0   58.72          0.5872  \n",
      "3            400   58.12          0.5812  \n",
      "4            222   51.80           0.518  \n",
      "5            372   55.87          0.5587  \n",
      "6            415   60.54          0.6054  \n",
      "7            397   48.46          0.4846  \n",
      "8            265   55.84          0.5584  \n",
      "9              0   56.13          0.5613  \n",
      "10             0   36.98          0.3698  \n",
      "11           194   36.15          0.3615  \n",
      "12           449   60.41          0.6041  \n",
      "13           336   44.17          0.4417  \n",
      "14           298   47.01          0.4701  \n",
      "15           554   63.29          0.6329  \n",
      "16           636   72.80           0.728  \n",
      "17           324   71.58          0.7158  \n",
      "18             0   64.69          0.6469  \n",
      "19           235   48.54          0.4854  \n",
      "20           414   58.60           0.586  \n",
      "21           254   53.41          0.5341  \n",
      "22             0   55.29          0.5529  \n",
      "23           336   54.65          0.5465  \n",
      "24             0   50.59          0.5059  \n",
      "25           148   48.88          0.4888  \n",
      "26             0   67.95          0.6795  \n",
      "27           268   51.17          0.5117  \n",
      "28           318   72.17          0.7217  \n",
      "29             0  100.00            1.00  \n",
      "30            78   47.88          0.4788  \n",
      "31             0   46.48          0.4648  \n",
      "32           352   68.40           0.684  \n",
      "33           206   39.79          0.3979  \n",
      "34           146   56.64          0.5664  \n",
      "35           162   34.65          0.3465  \n",
      "36           158   61.28          0.6128  \n",
      "37            97   51.52          0.5152  \n",
      "38           254   54.31          0.5431  \n",
      "39             0   54.66          0.5466  \n",
      "40           298   54.24          0.5424  \n",
      "41           311   66.32          0.6632  \n",
      "42           392   42.57          0.4257  \n",
      "43             0   54.89          0.5489  \n",
      "44           170   71.90           0.719  \n",
      "45           163   66.67          0.6667  \n",
      "46             0  100.00            1.00  \n"
     ]
    }
   ],
   "source": [
    "precinct_47 = precincts.merge(result, how='right', left_on='PRECINCT', right_on='PRECINCT')\n",
    "print(precinct_47)"
   ]
  },
  {
   "cell_type": "code",
   "execution_count": 61,
   "metadata": {},
   "outputs": [
    {
     "data": {
      "image/png": "[encoded data removed]",
      "text/plain": [
       "<Figure size 1080x648 with 2 Axes>"
      ]
     },
     "metadata": {},
     "output_type": "display_data"
    }
   ],
   "source": [
    "variable = 'percent'\n",
    "vmin, vmax = 0,100\n",
    "fig, ax = plt.subplots(1, figsize=(15,9))\n",
    "\n",
    "precinct_47.plot(column='percent', cmap='RdBu', ax=ax)\n",
    "\n",
    "ax.axis('off')\n",
    "ax.set_title('District 47 2018 election results')\n",
    "sm = plt.cm.ScalarMappable(cmap='RdBu', norm=plt.Normalize(vmin=vmin, vmax=vmax))\n",
    "sm._A = []\n",
    "cbar = fig.colorbar(sm)"
   ]
  },
  {
   "cell_type": "code",
   "execution_count": 62,
   "metadata": {},
   "outputs": [],
   "source": [
    "fig.savefig('map_export.png', dpi=300)"
   ]
  },
  {
   "cell_type": "code",
   "execution_count": 71,
   "metadata": {},
   "outputs": [
    {
     "data": {
      "image/png": "[encoded data removed]",
      "text/plain": [
       "<Figure size 1080x648 with 2 Axes>"
      ]
     },
     "metadata": {},
     "output_type": "display_data"
    }
   ],
   "source": [
    "variable = 'TOTAL_VOTES'\n",
    "vmin, vmax = 0,2500\n",
    "fig, ax = plt.subplots(1, figsize=(15,9))\n",
    "\n",
    "precinct_47.plot(column='TOTAL_VOTES', cmap='Blues', ax=ax)\n",
    "\n",
    "ax.axis('off')\n",
    "ax.set_title('District 47 2018 election results')\n",
    "sm = plt.cm.ScalarMappable(cmap='Blues', norm=plt.Normalize(vmin=vmin, vmax=vmax))\n",
    "sm._A = []\n",
    "cbar = fig.colorbar(sm)"
   ]
  },
  {
   "cell_type": "code",
   "execution_count": 67,
   "metadata": {},
   "outputs": [
    {
     "name": "stdout",
     "output_type": "stream",
     "text": [
      "    PRECINCT CONGRESS                                           geometry  \\\n",
      "0        302       07  POLYGON Z ((-81.347495 28.51715 0, -81.3474960...   \n",
      "1        303       07  POLYGON Z ((-81.343416 28.52417 0, -81.343497 ...   \n",
      "2        304       07  POLYGON Z ((-81.324856 28.524288 0, -81.325434...   \n",
      "3        305       07  POLYGON Z ((-81.310394 28.524428 0, -81.310409...   \n",
      "4        323       10  POLYGON Z ((-81.310204 28.497135 0, -81.31021 ...   \n",
      "5        324       07  POLYGON Z ((-81.310333 28.517108 0, -81.310683...   \n",
      "6        325       07  POLYGON Z ((-81.330955 28.513311 0, -81.331321...   \n",
      "7        326       07  POLYGON Z ((-81.34745100000001 28.509555 0, -8...   \n",
      "8        327       07  POLYGON Z ((-81.36194999999999 28.508756 0, -8...   \n",
      "9        328       10  POLYGON Z ((-81.37609 28.494684 0, -81.376231 ...   \n",
      "10       334       10  POLYGON Z ((-81.330557 28.480525 0, -81.330583...   \n",
      "11       335       10  POLYGON Z ((-81.330788 28.482339 0, -81.330789...   \n",
      "12       336       10  POLYGON Z ((-81.31026799999999 28.505774 0, -8...   \n",
      "13       337       07  POLYGON Z ((-81.33083600000001 28.495054 0, -8...   \n",
      "14       338       10  POLYGON Z ((-81.310092 28.480615 0, -81.310152...   \n",
      "15       501       07  POLYGON Z ((-81.368404 28.538491 0, -81.368689...   \n",
      "16       502       07  POLYGON Z ((-81.343587 28.538771 0, -81.343587...   \n",
      "17       503       07  POLYGON Z ((-81.35166099999999 28.560541 0, -8...   \n",
      "18       505       07  POLYGON Z ((-81.36436999999999 28.580034 0, -8...   \n",
      "19       507       10  POLYGON Z ((-81.37574499999999 28.567877 0, -8...   \n",
      "20       508       10  POLYGON Z ((-81.37509 28.578711 0, -81.375091 ...   \n",
      "21       509       10  POLYGON Z ((-81.389455 28.572059 0, -81.389848...   \n",
      "22       519       07  POLYGON Z ((-81.34232 28.595213 0, -81.3423509...   \n",
      "23       520       07  POLYGON Z ((-81.30731 28.60022 0, -81.308114 2...   \n",
      "24       521       07  POLYGON Z ((-81.307046 28.589885 0, -81.307243...   \n",
      "25       523       07  POLYGON Z ((-81.339775 28.568922 0, -81.339778...   \n",
      "26       524       07  POLYGON Z ((-81.316036 28.56406 0, -81.316113 ...   \n",
      "27       527       07  POLYGON Z ((-81.306916 28.584408 0, -81.306925...   \n",
      "28       549       10  POLYGON Z ((-81.37269000000001 28.565999 0, -8...   \n",
      "29       631       07  POLYGON Z ((-81.37637100000001 28.520239 0, -8...   \n",
      "30       201       10  POLYGON Z ((-81.393314 28.552975 0, -81.393586...   \n",
      "31       202       10  POLYGON Z ((-81.391792 28.583892 0, -81.391835...   \n",
      "32       301       07  POLYGON Z ((-81.363322 28.534513 0, -81.363404...   \n",
      "33       330       10  POLYGON Z ((-81.359658 28.489552 0, -81.359773...   \n",
      "34       331       10  POLYGON Z ((-81.368082 28.465544 0, -81.368260...   \n",
      "35       333       10  POLYGON Z ((-81.338622 28.465748 0, -81.338682...   \n",
      "36       339       10  POLYGON Z ((-81.309005 28.451455 0, -81.309158...   \n",
      "37       342       10  POLYGON Z ((-81.375778 28.537004 0, -81.375809...   \n",
      "38       504       07  POLYGON Z ((-81.34607699999999 28.567842 0, -8...   \n",
      "39       510       10  POLYGON Z ((-81.375141 28.582247 0, -81.375547...   \n",
      "40       511       07  POLYGON Z ((-81.360668 28.58218 0, -81.3613809...   \n",
      "41       512       07  POLYGON Z ((-81.351643 28.597016 0, -81.351651...   \n",
      "42       522       07  POLYGON Z ((-81.324646 28.578808 0, -81.324653...   \n",
      "43       525       07  POLYGON Z ((-81.315048 28.56558 0, -81.315983 ...   \n",
      "44       526       07  POLYGON Z ((-81.28609899999999 28.568311 0, -8...   \n",
      "45       630       10  POLYGON Z ((-81.37631500000001 28.512912 0, -8...   \n",
      "46       419       10  POLYGON Z ((-81.303974 28.413808 0, -81.303982...   \n",
      "\n",
      "      CANDIDATE_NAME                      CONTEST_NAME  EARLY_PROVISIONAL  \\\n",
      "0   Anna V. Eskamani  State Representative District 47                  0   \n",
      "1   Anna V. Eskamani  State Representative District 47                  0   \n",
      "2   Anna V. Eskamani  State Representative District 47                  0   \n",
      "3   Anna V. Eskamani  State Representative District 47                  0   \n",
      "4   Anna V. Eskamani  State Representative District 47                  0   \n",
      "5   Anna V. Eskamani  State Representative District 47                  0   \n",
      "6   Anna V. Eskamani  State Representative District 47                  0   \n",
      "7   Anna V. Eskamani  State Representative District 47                  0   \n",
      "8   Anna V. Eskamani  State Representative District 47                  0   \n",
      "9   Anna V. Eskamani  State Representative District 47                  0   \n",
      "10  Anna V. Eskamani  State Representative District 47                  0   \n",
      "11  Anna V. Eskamani  State Representative District 47                  0   \n",
      "12  Anna V. Eskamani  State Representative District 47                  0   \n",
      "13  Anna V. Eskamani  State Representative District 47                  0   \n",
      "14  Anna V. Eskamani  State Representative District 47                  0   \n",
      "15  Anna V. Eskamani  State Representative District 47                  0   \n",
      "16  Anna V. Eskamani  State Representative District 47                  0   \n",
      "17  Anna V. Eskamani  State Representative District 47                  0   \n",
      "18  Anna V. Eskamani  State Representative District 47                  0   \n",
      "19  Anna V. Eskamani  State Representative District 47                  0   \n",
      "20  Anna V. Eskamani  State Representative District 47                  0   \n",
      "21  Anna V. Eskamani  State Representative District 47                  0   \n",
      "22  Anna V. Eskamani  State Representative District 47                  0   \n",
      "23  Anna V. Eskamani  State Representative District 47                  0   \n",
      "24  Anna V. Eskamani  State Representative District 47                  0   \n",
      "25  Anna V. Eskamani  State Representative District 47                  0   \n",
      "26  Anna V. Eskamani  State Representative District 47                  0   \n",
      "27  Anna V. Eskamani  State Representative District 47                  0   \n",
      "28  Anna V. Eskamani  State Representative District 47                  0   \n",
      "29  Anna V. Eskamani  State Representative District 47                  0   \n",
      "30  Anna V. Eskamani  State Representative District 47                  0   \n",
      "31  Anna V. Eskamani  State Representative District 47                  0   \n",
      "32  Anna V. Eskamani  State Representative District 47                  0   \n",
      "33  Anna V. Eskamani  State Representative District 47                  0   \n",
      "34  Anna V. Eskamani  State Representative District 47                  0   \n",
      "35  Anna V. Eskamani  State Representative District 47                  0   \n",
      "36  Anna V. Eskamani  State Representative District 47                  0   \n",
      "37  Anna V. Eskamani  State Representative District 47                  0   \n",
      "38  Anna V. Eskamani  State Representative District 47                  0   \n",
      "39  Anna V. Eskamani  State Representative District 47                  0   \n",
      "40  Anna V. Eskamani  State Representative District 47                  0   \n",
      "41  Anna V. Eskamani  State Representative District 47                  0   \n",
      "42  Anna V. Eskamani  State Representative District 47                  0   \n",
      "43  Anna V. Eskamani  State Representative District 47                  0   \n",
      "44  Anna V. Eskamani  State Representative District 47                  0   \n",
      "45  Anna V. Eskamani  State Representative District 47                  0   \n",
      "46  Anna V. Eskamani  State Representative District 47                  0   \n",
      "\n",
      "    EARLY_VOTING  ELECTION_DAY  ELECTION_DAY_PROVISIONAL  TOTAL_VOTES  \\\n",
      "0            537           296                         0         1181   \n",
      "1            643           462                         0         1516   \n",
      "2              0             0                         0         1492   \n",
      "3            345           411                         0         1156   \n",
      "4            333           336                         0          891   \n",
      "5            367           350                         0         1089   \n",
      "6            488           564                         0         1467   \n",
      "7            512           480                         0         1389   \n",
      "8            451           365                         0         1081   \n",
      "9              0             0                         0          788   \n",
      "10             0             0                         0          886   \n",
      "11           263           167                         0          624   \n",
      "12           620           489                         0         1558   \n",
      "13           369           336                         0         1041   \n",
      "14           299           205                         0          802   \n",
      "15           636           562                         0         1752   \n",
      "16           881           771                         0         2288   \n",
      "17           422           430                         0         1176   \n",
      "18             0             0                         0          995   \n",
      "19           304           294                         0          833   \n",
      "20           575           466                         0         1455   \n",
      "21           385           372                         0         1011   \n",
      "22             0             0                         0          941   \n",
      "23           366           297                         0          999   \n",
      "24             0             0                         0         1023   \n",
      "25           176           180                         0          504   \n",
      "26             0             0                         0         1696   \n",
      "27           385           203                         0          856   \n",
      "28           675           514                         0         1507   \n",
      "29             0             0                         0            6   \n",
      "30            74            51                         0          203   \n",
      "31             0             0                         0          542   \n",
      "32           442           297                         0         1091   \n",
      "33           209           253                         0          668   \n",
      "34           150           182                         0          478   \n",
      "35           155           281                         0          598   \n",
      "36           231           214                         0          603   \n",
      "37            53            53                         0          203   \n",
      "38           291           267                         0          812   \n",
      "39             0             0                         0          973   \n",
      "40           396           284                         0          978   \n",
      "41           335           238                         0          884   \n",
      "42           340           191                         0          923   \n",
      "43             0             0                         0         2376   \n",
      "44           181           171                         0          522   \n",
      "45           132            65                         0          360   \n",
      "46             0             0                         0            1   \n",
      "\n",
      "    VOTE_BY_MAIL percent percent_decimal  \n",
      "0            348   56.37          0.5637  \n",
      "1            411   61.83          0.6183  \n",
      "2              0   58.72          0.5872  \n",
      "3            400   58.12          0.5812  \n",
      "4            222   51.80           0.518  \n",
      "5            372   55.87          0.5587  \n",
      "6            415   60.54          0.6054  \n",
      "7            397   48.46          0.4846  \n",
      "8            265   55.84          0.5584  \n",
      "9              0   56.13          0.5613  \n",
      "10             0   36.98          0.3698  \n",
      "11           194   36.15          0.3615  \n",
      "12           449   60.41          0.6041  \n",
      "13           336   44.17          0.4417  \n",
      "14           298   47.01          0.4701  \n",
      "15           554   63.29          0.6329  \n",
      "16           636   72.80           0.728  \n",
      "17           324   71.58          0.7158  \n",
      "18             0   64.69          0.6469  \n",
      "19           235   48.54          0.4854  \n",
      "20           414   58.60           0.586  \n",
      "21           254   53.41          0.5341  \n",
      "22             0   55.29          0.5529  \n",
      "23           336   54.65          0.5465  \n",
      "24             0   50.59          0.5059  \n",
      "25           148   48.88          0.4888  \n",
      "26             0   67.95          0.6795  \n",
      "27           268   51.17          0.5117  \n",
      "28           318   72.17          0.7217  \n",
      "29             0  100.00            1.00  \n",
      "30            78   47.88          0.4788  \n",
      "31             0   46.48          0.4648  \n",
      "32           352   68.40           0.684  \n",
      "33           206   39.79          0.3979  \n",
      "34           146   56.64          0.5664  \n",
      "35           162   34.65          0.3465  \n",
      "36           158   61.28          0.6128  \n",
      "37            97   51.52          0.5152  \n",
      "38           254   54.31          0.5431  \n",
      "39             0   54.66          0.5466  \n",
      "40           298   54.24          0.5424  \n",
      "41           311   66.32          0.6632  \n",
      "42           392   42.57          0.4257  \n",
      "43             0   54.89          0.5489  \n",
      "44           170   71.90           0.719  \n",
      "45           163   66.67          0.6667  \n",
      "46             0  100.00            1.00  \n"
     ]
    }
   ],
   "source": [
    "print(precinct_47)"
   ]
  },
  {
   "cell_type": "code",
   "execution_count": null,
   "metadata": {},
   "outputs": [],
   "source": []
  },
  {
   "cell_type": "code",
   "execution_count": null,
   "metadata": {},
   "outputs": [],
   "source": []
  }
 ],
 "metadata": {
  "kernelspec": {
   "display_name": "Python 3",
   "language": "python",
   "name": "python3"
  },
  "language_info": {
   "codemirror_mode": {
    "name": "ipython",
    "version": 3
   },
   "file_extension": ".py",
   "mimetype": "text/x-python",
   "name": "python",
   "nbconvert_exporter": "python",
   "pygments_lexer": "ipython3",
   "version": "3.7.1"
  }
 },
 "nbformat": 4,
 "nbformat_minor": 2
}
